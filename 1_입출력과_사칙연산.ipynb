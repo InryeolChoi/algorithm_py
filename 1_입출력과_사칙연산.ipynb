{
  "nbformat": 4,
  "nbformat_minor": 0,
  "metadata": {
    "colab": {
      "name": "1_입출력과 사칙연산",
      "provenance": [],
      "authorship_tag": "ABX9TyNOQsudA7Ga8/I/moTOk964",
      "include_colab_link": true
    },
    "kernelspec": {
      "name": "python3",
      "display_name": "Python 3"
    },
    "language_info": {
      "name": "python"
    }
  },
  "cells": [
    {
      "cell_type": "markdown",
      "metadata": {
        "id": "view-in-github",
        "colab_type": "text"
      },
      "source": [
        "<a href=\"https://colab.research.google.com/github/InryeolChoi/baekjoon/blob/main/1_%EC%9E%85%EC%B6%9C%EB%A0%A5%EA%B3%BC_%EC%82%AC%EC%B9%99%EC%97%B0%EC%82%B0.ipynb\" target=\"_parent\"><img src=\"https://colab.research.google.com/assets/colab-badge.svg\" alt=\"Open In Colab\"/></a>"
      ]
    },
    {
      "cell_type": "markdown",
      "source": [
        "# 2557번"
      ],
      "metadata": {
        "id": "FdrSMZ3yVlW5"
      }
    },
    {
      "cell_type": "code",
      "execution_count": null,
      "metadata": {
        "id": "HVIUy6rOVkd4"
      },
      "outputs": [],
      "source": [
        "print(\"Hello World!\")"
      ]
    },
    {
      "cell_type": "markdown",
      "source": [
        "# 10718번"
      ],
      "metadata": {
        "id": "fU-zMzlkZ7SR"
      }
    },
    {
      "cell_type": "code",
      "source": [
        "x = \"강한친구 대한육군\"\n",
        "print(\"\\n\".join((x, x)))"
      ],
      "metadata": {
        "id": "A6EoHrhmZ9Xu"
      },
      "execution_count": null,
      "outputs": []
    },
    {
      "cell_type": "markdown",
      "source": [
        "# 10171번"
      ],
      "metadata": {
        "id": "geuQp0LlZ99r"
      }
    },
    {
      "cell_type": "code",
      "source": [
        "x = [\n",
        "\"\\\\    /\\\\\",\n",
        "\" )  ( ')\",\n",
        "\"(  /  )\",\n",
        "\" \\\\(__)|\"]\n",
        "\n",
        "for i in x:\n",
        "    print(i)"
      ],
      "metadata": {
        "id": "ZUyUcJSuZ9G3"
      },
      "execution_count": null,
      "outputs": []
    },
    {
      "cell_type": "markdown",
      "source": [
        "# 10172번"
      ],
      "metadata": {
        "id": "7yLPUhxCZ_4b"
      }
    },
    {
      "cell_type": "code",
      "source": [
        "print(\"|\\_/|\")\n",
        "print(\"|q p|   /}\")\n",
        "print(\"( 0 )\\\"\\\"\\\"\\\\\")\n",
        "print(\"|\\\"^\\\"`    |\")\n",
        "print(\"||_/=\\\\\\\\__|\")"
      ],
      "metadata": {
        "id": "p0f4jfOQaCE1"
      },
      "execution_count": null,
      "outputs": []
    },
    {
      "cell_type": "markdown",
      "source": [
        "# 1008번"
      ],
      "metadata": {
        "id": "5OZYVRP1aZCM"
      }
    },
    {
      "cell_type": "code",
      "source": [
        "line = input()\n",
        "a = int(line[0])\n",
        "b = int(line[2])\n",
        "print(a/b)"
      ],
      "metadata": {
        "id": "6jIw31iKaeLm"
      },
      "execution_count": null,
      "outputs": []
    },
    {
      "cell_type": "markdown",
      "source": [
        "# 10926번"
      ],
      "metadata": {
        "id": "G4VaXedTad8P"
      }
    },
    {
      "cell_type": "code",
      "source": [
        "\"\"\"??!\"\"\"\n",
        "def find(s):\n",
        "    return s + \"??!\"\n",
        "\n",
        "print(find(input()))"
      ],
      "metadata": {
        "id": "DORFe8-saecz"
      },
      "execution_count": null,
      "outputs": []
    },
    {
      "cell_type": "markdown",
      "source": [
        "# 18108번"
      ],
      "metadata": {
        "id": "OKZJXSH4ajr6"
      }
    },
    {
      "cell_type": "code",
      "source": [
        "print(int(input())-543)"
      ],
      "metadata": {
        "id": "Q_LcJRadaj66"
      },
      "execution_count": null,
      "outputs": []
    },
    {
      "cell_type": "markdown",
      "source": [
        "# 2588번"
      ],
      "metadata": {
        "id": "2lJOxJpJaLnf"
      }
    },
    {
      "cell_type": "code",
      "source": [
        "\"\"\"곱셈\"\"\"\n",
        "\n",
        "input1 = int(input())\n",
        "input2 = input()\n",
        "\n",
        "for i in reversed(range(3)):\n",
        "    print(input1 * int(input2[i]))\n",
        "print(input1 * int(input2))"
      ],
      "metadata": {
        "id": "w7pKykXHaLQR"
      },
      "execution_count": null,
      "outputs": []
    },
    {
      "cell_type": "markdown",
      "source": [
        "# 25083번"
      ],
      "metadata": {
        "id": "bMjwbyWPaQMd"
      }
    },
    {
      "cell_type": "code",
      "source": [
        "print(\"         ,r\\'\\\"7\")\n",
        "print(\"r`-_   ,\\'  ,/ \")\n",
        "print(\" \\\\. \\\". L_r\\' \")\n",
        "print(\"   `~\\\\/\")\n",
        "print(\"      |\")\n",
        "print(\"      |\")"
      ],
      "metadata": {
        "id": "FCX8ofdXaSYs"
      },
      "execution_count": null,
      "outputs": []
    }
  ]
}