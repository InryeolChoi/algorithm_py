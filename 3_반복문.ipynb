{
  "nbformat": 4,
  "nbformat_minor": 0,
  "metadata": {
    "colab": {
      "name": "3_반복문",
      "provenance": [],
      "toc_visible": true,
      "authorship_tag": "ABX9TyMiG2I+lwkxZDEbgzSY1hyA",
      "include_colab_link": true
    },
    "kernelspec": {
      "name": "python3",
      "display_name": "Python 3"
    },
    "language_info": {
      "name": "python"
    }
  },
  "cells": [
    {
      "cell_type": "markdown",
      "metadata": {
        "id": "view-in-github",
        "colab_type": "text"
      },
      "source": [
        "<a href=\"https://colab.research.google.com/github/InryeolChoi/baekjoon/blob/main/3_%EB%B0%98%EB%B3%B5%EB%AC%B8.ipynb\" target=\"_parent\"><img src=\"https://colab.research.google.com/assets/colab-badge.svg\" alt=\"Open In Colab\"/></a>"
      ]
    },
    {
      "cell_type": "markdown",
      "source": [
        "# 10950번"
      ],
      "metadata": {
        "id": "c7uvqV6ickN_"
      }
    },
    {
      "cell_type": "code",
      "execution_count": null,
      "metadata": {
        "id": "FPVx-C5McgEk"
      },
      "outputs": [],
      "source": [
        "n = int(input())\n",
        "for i in range(n):\n",
        "    a, b = map(int, input().split())\n",
        "    print(a+b)"
      ]
    },
    {
      "cell_type": "markdown",
      "source": [
        "# 8393번"
      ],
      "metadata": {
        "id": "gVjy4fM3dDLz"
      }
    },
    {
      "cell_type": "code",
      "source": [
        "n = int(input())\n",
        "print(n*(n+1)//2)"
      ],
      "metadata": {
        "id": "CzP2EvridGLS"
      },
      "execution_count": null,
      "outputs": []
    },
    {
      "cell_type": "markdown",
      "source": [
        "# 2741번"
      ],
      "metadata": {
        "id": "IybbaioadrU8"
      }
    },
    {
      "cell_type": "code",
      "source": [
        "for i in range(int(input())):\n",
        "  print(i)"
      ],
      "metadata": {
        "id": "zcIsgnZ0d8ZS"
      },
      "execution_count": null,
      "outputs": []
    },
    {
      "cell_type": "markdown",
      "source": [
        "# 2742번"
      ],
      "metadata": {
        "id": "DGsLafzddHDP"
      }
    },
    {
      "cell_type": "code",
      "source": [
        "for i in range(int(input()), 0, -1):\n",
        "    print(i)"
      ],
      "metadata": {
        "id": "k4Cvq4s5gEva"
      },
      "execution_count": null,
      "outputs": []
    },
    {
      "cell_type": "markdown",
      "source": [
        "# 11022번"
      ],
      "metadata": {
        "id": "e5vqClR2gqJP"
      }
    },
    {
      "cell_type": "code",
      "source": [
        "n = int(input())\n",
        "A = [0 for i in range(n+1)]\n",
        "B = [0 for i in range(n+1)]\n",
        "for i in range(n):\n",
        "    A[i], B[i] = map(int, input().split())\n",
        "for i in range(n):\n",
        "    print(\"Case #%d: %d + %d = %d\" % (i+1, A[i], B[i], A[i]+B[i]))"
      ],
      "metadata": {
        "id": "V5hQ0vXggtOd"
      },
      "execution_count": null,
      "outputs": []
    },
    {
      "cell_type": "markdown",
      "source": [
        "# 2439번"
      ],
      "metadata": {
        "id": "-bdsGcr4gvne"
      }
    },
    {
      "cell_type": "code",
      "source": [
        "a = int(input())\n",
        "for i in range(1, a+1):\n",
        "    print(\" \" * (a-i), end=\"\")\n",
        "    print(\"*\" * i)"
      ],
      "metadata": {
        "id": "5Ci_2cT_gw6r"
      },
      "execution_count": null,
      "outputs": []
    },
    {
      "cell_type": "markdown",
      "source": [
        "# 10871번"
      ],
      "metadata": {
        "id": "rs9JAdR-gxW_"
      }
    },
    {
      "cell_type": "code",
      "source": [
        "n, X = map(int, input().split())\n",
        "A = list(map(int, input().split()))\n",
        "for i in range(n):\n",
        "    if A[i] < X:\n",
        "        print(A[i], end=\" \")\n",
        "print(\"\\n\")"
      ],
      "metadata": {
        "id": "j81q-UrCh8lW"
      },
      "execution_count": null,
      "outputs": []
    },
    {
      "cell_type": "markdown",
      "source": [
        "# 10952번"
      ],
      "metadata": {
        "id": "6DVMTqm6iAOz"
      }
    },
    {
      "cell_type": "code",
      "source": [
        "A = 0\n",
        "B = 0\n",
        "while(True):\n",
        "    A, B = map(int, input().split())\n",
        "    if A + B == 0:\n",
        "        break\n",
        "    print(A+B)"
      ],
      "metadata": {
        "id": "gaVxzVOXh8Np"
      },
      "execution_count": null,
      "outputs": []
    },
    {
      "cell_type": "markdown",
      "source": [
        "# 10951번"
      ],
      "metadata": {
        "id": "TOaUyFb6iC-m"
      }
    },
    {
      "cell_type": "code",
      "source": [
        "while(True):\n",
        "    try:\n",
        "        A, B = map(int, input().split())\n",
        "        print(A+B)\n",
        "    except EOFError:\n",
        "        exit()"
      ],
      "metadata": {
        "id": "Ghln-F-XiEag"
      },
      "execution_count": null,
      "outputs": []
    },
    {
      "cell_type": "markdown",
      "source": [
        "# 1110번"
      ],
      "metadata": {
        "id": "91rQZnU-iEzK"
      }
    },
    {
      "cell_type": "code",
      "source": [
        "get_number = int(input())\n",
        "n = get_number\n",
        "times = 0\n",
        "\n",
        "while True:\n",
        "    a = n//10\n",
        "    b = n%10\n",
        "    c = (a+b) % 10\n",
        "    times += 1\n",
        "    n = (b*10) + c\n",
        "    if get_number == n:\n",
        "        break\n",
        "\n",
        "print(times)"
      ],
      "metadata": {
        "id": "JcCMs1vWiFdA"
      },
      "execution_count": null,
      "outputs": []
    }
  ]
}