{
  "nbformat": 4,
  "nbformat_minor": 0,
  "metadata": {
    "colab": {
      "name": "2_조건문",
      "provenance": [],
      "authorship_tag": "ABX9TyPkMhayts0aBq4ge8NUjM/o",
      "include_colab_link": true
    },
    "kernelspec": {
      "name": "python3",
      "display_name": "Python 3"
    },
    "language_info": {
      "name": "python"
    }
  },
  "cells": [
    {
      "cell_type": "markdown",
      "metadata": {
        "id": "view-in-github",
        "colab_type": "text"
      },
      "source": [
        "<a href=\"https://colab.research.google.com/github/InryeolChoi/baekjoon/blob/main/2_%EC%A1%B0%EA%B1%B4%EB%AC%B8.ipynb\" target=\"_parent\"><img src=\"https://colab.research.google.com/assets/colab-badge.svg\" alt=\"Open In Colab\"/></a>"
      ]
    },
    {
      "cell_type": "markdown",
      "source": [
        "# 14681. 사분면 고르기"
      ],
      "metadata": {
        "id": "mv0SyGxqbdqb"
      }
    },
    {
      "cell_type": "code",
      "execution_count": null,
      "metadata": {
        "id": "xM_sjsIAbTrA"
      },
      "outputs": [],
      "source": [
        "A = int(input())\n",
        "B = int(input())\n",
        "if A > 0 and B > 0: print(\"1\")\n",
        "elif A < 0 and B > 0: print(\"2\")\n",
        "elif A < 0 and B < 0: print(\"3\")\n",
        "elif A > 0 and B < 0: print(\"4\")"
      ]
    },
    {
      "cell_type": "markdown",
      "source": [
        "# 2884번. 알람시계"
      ],
      "metadata": {
        "id": "LR-T0GNfbeSv"
      }
    },
    {
      "cell_type": "code",
      "source": [
        "A, B = map(int, input().split())\n",
        "if A != 0:\n",
        "    if 45<=B<=59:\n",
        "        print(A, B - 45)\n",
        "    elif 0<=B<45:\n",
        "        print(A - 1, B + 15)\n",
        "elif A == 0:\n",
        "    if 45<=B<=59:\n",
        "        print(0, B - 45)\n",
        "    elif 0<=B<45:\n",
        "        print(23, B + 15)"
      ],
      "metadata": {
        "id": "0vpsZpAvbfCy"
      },
      "execution_count": null,
      "outputs": []
    },
    {
      "cell_type": "markdown",
      "source": [
        "# 2525. 오븐 시계"
      ],
      "metadata": {
        "id": "q_QyMuBzbeig"
      }
    },
    {
      "cell_type": "code",
      "source": [
        "import sys\n",
        "a,b = map(int,sys.stdin.readline().split())\n",
        "N = int(sys.stdin.readline())\n",
        "y = ((b+N)// 60)\n",
        "if b + N >= 60:\n",
        "    b = b+N - (60 * y)\n",
        "    if a + y >= 24:\n",
        "        a = a + y - 24\n",
        "    else:\n",
        "        a += y\n",
        "else:\n",
        "    b += N\n",
        "\n",
        "print(a,b)"
      ],
      "metadata": {
        "id": "Dh1aJWC0bfT6"
      },
      "execution_count": null,
      "outputs": []
    },
    {
      "cell_type": "markdown",
      "source": [
        "# 2480. 주사위 세개"
      ],
      "metadata": {
        "id": "YE6YRgypbfsL"
      }
    },
    {
      "cell_type": "code",
      "source": [
        "A, B, C = map(int, input().split())\n",
        "if A == B and B == C and A == C:\n",
        "    print(10000 + A * 1000)\n",
        "elif A != B and B != C and A != C:\n",
        "    print(max(A,B,C) * 100)\n",
        "\n",
        "else:\n",
        "    if A == B:\n",
        "        print(1000 + A * 100)\n",
        "    elif B == C:\n",
        "        print(1000 + B * 100)\n",
        "    elif A == C:\n",
        "        print(1000 + A * 100)"
      ],
      "metadata": {
        "id": "CHgPchYbbgUl"
      },
      "execution_count": null,
      "outputs": []
    }
  ]
}