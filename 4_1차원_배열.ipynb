{
  "nbformat": 4,
  "nbformat_minor": 0,
  "metadata": {
    "colab": {
      "name": "4_1차원 배열",
      "provenance": [],
      "authorship_tag": "ABX9TyMa0XYb3JI680dYCRCMmPKY",
      "include_colab_link": true
    },
    "kernelspec": {
      "name": "python3",
      "display_name": "Python 3"
    },
    "language_info": {
      "name": "python"
    }
  },
  "cells": [
    {
      "cell_type": "markdown",
      "metadata": {
        "id": "view-in-github",
        "colab_type": "text"
      },
      "source": [
        "<a href=\"https://colab.research.google.com/github/InryeolChoi/baekjoon/blob/main/4_1%EC%B0%A8%EC%9B%90_%EB%B0%B0%EC%97%B4.ipynb\" target=\"_parent\"><img src=\"https://colab.research.google.com/assets/colab-badge.svg\" alt=\"Open In Colab\"/></a>"
      ]
    },
    {
      "cell_type": "markdown",
      "source": [
        "# 2562번"
      ],
      "metadata": {
        "id": "5j2BvMczicJI"
      }
    },
    {
      "cell_type": "code",
      "execution_count": null,
      "metadata": {
        "id": "M90wizj7iZ4k"
      },
      "outputs": [],
      "source": [
        "number = []\n",
        "max = 0\n",
        "count = 0\n",
        "for i in range(9):\n",
        "    number.append(int(input()))\n",
        "    if number[i] > max:\n",
        "        max = number[i]\n",
        "        count = i+1\n",
        "print(max)\n",
        "print(count)"
      ]
    },
    {
      "cell_type": "markdown",
      "source": [
        "# 3052번"
      ],
      "metadata": {
        "id": "CwfxtI1licZn"
      }
    },
    {
      "cell_type": "code",
      "source": [
        "left = list()\n",
        "for i in range(10):\n",
        "    left.append(int(input())%42)\n",
        "print(len(list(set(left))))"
      ],
      "metadata": {
        "id": "SrZWBTOvicw6"
      },
      "execution_count": null,
      "outputs": []
    },
    {
      "cell_type": "markdown",
      "source": [
        "# 8958번"
      ],
      "metadata": {
        "id": "cX9qxcJzidCW"
      }
    },
    {
      "cell_type": "code",
      "source": [
        "n = int(input())\n",
        "for _ in range(n):\n",
        "    count = 0\n",
        "    sum = 0\n",
        "    a = list(input())\n",
        "    for i in a:\n",
        "        if i == 'O':\n",
        "            count+=1\n",
        "            sum = sum+count\n",
        "        else:\n",
        "            count = 0\n",
        "    print(sum)\n"
      ],
      "metadata": {
        "id": "iTTjpgZKieC-"
      },
      "execution_count": null,
      "outputs": []
    },
    {
      "cell_type": "markdown",
      "source": [
        "# 4344번"
      ],
      "metadata": {
        "id": "a9vqQZP2iebm"
      }
    },
    {
      "cell_type": "code",
      "source": [
        "for _ in range(int(input())):\n",
        "    numbers = list(map(int, input().split()))\n",
        "    avg = sum(numbers[1:])/numbers[0]\n",
        "    cnt = 0\n",
        "    for score in numbers[1:]:\n",
        "        if score > avg:\n",
        "            cnt += 1\n",
        "\n",
        "    print(f'{cnt/numbers[0]*100:.3f}%')"
      ],
      "metadata": {
        "id": "w-YMKqbiie4x"
      },
      "execution_count": null,
      "outputs": []
    }
  ]
}